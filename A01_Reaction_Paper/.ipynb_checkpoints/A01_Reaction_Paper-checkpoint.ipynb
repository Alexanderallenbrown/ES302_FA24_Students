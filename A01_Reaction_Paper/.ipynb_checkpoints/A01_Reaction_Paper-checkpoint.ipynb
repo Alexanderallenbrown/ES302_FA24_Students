{
 "cells": [
  {
   "cell_type": "markdown",
   "id": "f221ce17",
   "metadata": {
    "toc": true
   },
   "source": [
    "<h1>Table of Contents<span class=\"tocSkip\"></span></h1>\n",
    "<div class=\"toc\"><ul class=\"toc-item\"><li><span><a href=\"#Reaction-Paper:-Due-9/6/2022\" data-toc-modified-id=\"Reaction-Paper:-Due-9/6/2022-1\"><span class=\"toc-item-num\">1&nbsp;&nbsp;</span>Reaction Paper: Due 9/6/2022</a></span><ul class=\"toc-item\"><li><span><a href=\"#Introduction\" data-toc-modified-id=\"Introduction-1.1\"><span class=\"toc-item-num\">1.1&nbsp;&nbsp;</span>Introduction</a></span></li><li><span><a href=\"#Pre-Reading-Assignment\" data-toc-modified-id=\"Pre-Reading-Assignment-1.2\"><span class=\"toc-item-num\">1.2&nbsp;&nbsp;</span>Pre-Reading Assignment</a></span></li><li><span><a href=\"#Definitions\" data-toc-modified-id=\"Definitions-1.3\"><span class=\"toc-item-num\">1.3&nbsp;&nbsp;</span>Definitions</a></span><ul class=\"toc-item\"><li><span><a href=\"#What-Is-a-Robot?\" data-toc-modified-id=\"What-Is-a-Robot?-1.3.1\"><span class=\"toc-item-num\">1.3.1&nbsp;&nbsp;</span>What Is a Robot?</a></span></li><li><span><a href=\"#What-do-we-mean-by-&quot;Ethical-Considerations?&quot;\" data-toc-modified-id=\"What-do-we-mean-by-&quot;Ethical-Considerations?&quot;-1.3.2\"><span class=\"toc-item-num\">1.3.2&nbsp;&nbsp;</span>What do we mean by \"Ethical Considerations?\"</a></span></li><li><span><a href=\"#What-do-we-mean-by-&quot;Social-Implications?&quot;\" data-toc-modified-id=\"What-do-we-mean-by-&quot;Social-Implications?&quot;-1.3.3\"><span class=\"toc-item-num\">1.3.3&nbsp;&nbsp;</span>What do we mean by \"Social Implications?\"</a></span></li><li><span><a href=\"#What-do-we-mean-by-&quot;Environmental-Implications?&quot;\" data-toc-modified-id=\"What-do-we-mean-by-&quot;Environmental-Implications?&quot;-1.3.4\"><span class=\"toc-item-num\">1.3.4&nbsp;&nbsp;</span>What do we mean by \"Environmental Implications?\"</a></span></li></ul></li><li><span><a href=\"#Assignment\" data-toc-modified-id=\"Assignment-1.4\"><span class=\"toc-item-num\">1.4&nbsp;&nbsp;</span>Assignment</a></span></li><li><span><a href=\"#Expectations\" data-toc-modified-id=\"Expectations-1.5\"><span class=\"toc-item-num\">1.5&nbsp;&nbsp;</span>Expectations</a></span></li></ul></li></ul></div>"
   ]
  },
  {
   "cell_type": "markdown",
   "id": "6c447fac",
   "metadata": {},
   "source": [
    "# Reaction Paper: Due 9/6/2022\n",
    "\n",
    "## Introduction\n",
    "\n",
    "Engineering cannot be accomplished independent of the social, environmental, and ethical implications of technological solutions. Robotics, in particular, represents a confluence of all of these factors in a vivid and unique way. This is partially because many people study robots and robotics, from philosophers to electrical engineers to social scientists. It's partially because robots are *everywhere*, and are inextricably linked to human lives and to our impact on the world around us. And it's partially because, as Mark Coekelbergh puts it in his 2022 book [Robot Ethics](https://mitpress.mit.edu/9780262544092/robot-ethics/), \"Robots are mirrors that show us the often-beautiful yet also darker sides of humans as well as their moral thinking and doing.\"\n",
    "\n",
    "## Pre-Reading Assignment\n",
    "\n",
    "Before you embark seriously on the assignment below, please take the time to read the following:\n",
    "\n",
    "* Chapter 1 of the [textbook](https://drive.google.com/file/d/1765a7bTY-nYGvFJMP41YahOQEy6gtGxN/view?usp=sharing). This will give you a good overview of the field of robotics from a roboticist's perspective, and outline some core technical challenges for robots. \n",
    "* [What Norms Are Social Robots Reflecting? A Socio-Legal Exploration on HRI Developers](https://drive.google.com/file/d/1D77GVxbqBhXBIlw9aiVQ2YYO_LTHNozk/view?usp=share_link), which explores how roboticists' choices and lenses can influence what social norms a robot perpetuates or challenges.\n",
    "* [A Code of Ethics for Robotics Engineers](https://ieeexplore.ieee.org/document/5453245), which proposes a code of ethics for roboticists.\n",
    "* [This Blog Post](https://alanwinfield.blogspot.com/2019/04/an-updated-round-up-of-ethical.html) that summarizes other ethical frameworks proposed for robots and roboticists.\n",
    "\n",
    "These are just to get you thinking about robots and robotics from a few different perspectives. None of these resources are infallible or contain information that is \"written in stone.\" However, they do expose some of the key ways of thinking that are important for us as we learn about robotics. We will focus mostly on the technical side of robotics this semester, but we will do so while always considering the 'systems-level' picture of the robot and its environment."
   ]
  },
  {
   "cell_type": "markdown",
   "id": "ce6423a3",
   "metadata": {},
   "source": [
    "## Definitions\n",
    "\n",
    "What I'd like to do to kick off ES302 is to have you think about the social, environmental, and ethical implications of a subset of the field of robotics that interests you. In order to do this, we need a few definitions. \n",
    "\n",
    "### What Is a Robot?\n",
    "\n",
    "The [IEEE defines a robot](https://robotsguide.com/learn/what-is-a-robot) \"simply\" as:\n",
    "\n",
    "> A robot is an autonomous machine capable of sensing its environment, carrying out computations to make decisions, and performing actions in the real world.\n",
    "\n",
    "But not all roboticists and/or people who study robotics agree on this definition. It's a decent definition, and it's the one we will use for this class. However, be aware that some people may think it's too broad (is a thermostat a robot?) and some may think it's too narrow (is a chatbot like chatGPT *not* a robot?). Some, like the late philosopher [Daniel Dennett](https://www.ft.com/content/96187a7a-fce5-11e6-96f8-3700c5664d30), think that perhaps *we* are also \"robots\" in some sense. Speaking on the \"mystery\" of consciousness, he says:\n",
    "\n",
    "> I’ve been arguing for years that, yes, in principle it’s possible for human consciousness to be realised in a machine. After all, that’s what we are,” he says. “We’re robots made of robots made of robots. We’re incredibly complex, trillions of moving parts. But they’re all non-miraculous robotic parts.\n",
    "\n",
    "As you move through the semester in ES302, I encourage you to look closely at the machines (both physically embodied and virtual) that you use every day. Ask yourself which of these are \"robots,\" and think critically about how the material in this class applies to each (or doesn't)."
   ]
  },
  {
   "cell_type": "markdown",
   "id": "566b12cc",
   "metadata": {},
   "source": [
    "###  What do we mean by \"Ethical Considerations?\"\n",
    "\n",
    "When we talk about \"ethical considerations\" in the context of engineering and robotics specifically, a lot of the time we are talking about what people (in many cases, engineers) **should do.** For example, established roboticist Rodney Brooks developed his own [Three Laws of Robotics](https://spectrum.ieee.org/rodney-brooks-three-laws-robotics?utm_source=roboticsnews&utm_medium=email&utm_campaign=roboticsnews-08-13-24&utm_content=httpsspectrumieeeorgrodneybrooksthreelawsrobotics&mkt_tok=NzU2LUdQSC04OTkAAAGU6wRC4t-QJYhh5Yg_PFOQvQdQkES1Lz_190-3UZ-1lsLwsb0hsk6KKWo1Ijp-7crxLFumMdDieVLD-pR4SYkVCuq-2I0PoDe1DcHDlRel7Zs6) that seem to govern how engineers should design and test robots before moving them towards a commercial product. \n",
    "\n",
    "But hidden in Brooks's \"three laws\" (which, by the way, are just one roboticist's opinion) are also statements about ethics \"for robots,\" which implicitly govern how robots themselves should behave. This in and of itself is another set of problems that is linked to, but not the same as, trying to decide how robots should be designed. To complicate matters more, there are also researchers who think critically about how the public should interact with robots as consumers or peers of those robots. For example, do robots themselves have any rights? Enough agency to be considered responsible for their actions? Is it ok for people to abuse them? What does the \"abuse\" of a nonliving thing look like?\n",
    "\n",
    "It's incredibly important when talking about ethics to be aware of and critical of one's own normative frame of reference. If we make statements about how an engineer (or the robot they make) *should* act, those statements are unavoidably colored by our own social and cultural context. [This article](https://drive.google.com/file/d/1D77GVxbqBhXBIlw9aiVQ2YYO_LTHNozk/view?usp=share_link), a part of your pre-reading assignment, makes that case very well. \n",
    "\n",
    "As you think about ethical implications associated with a robot project or assignment, it's important to have a framework to use to evaluate questions of *should*. The pre-reading assignment gives you a starting place, but there are others. The [Open Roboethics Institute](https://openroboethics.org//ai-toolkit/) provides a \"toolkit\" that can help you as well."
   ]
  },
  {
   "cell_type": "markdown",
   "id": "ecc201af",
   "metadata": {},
   "source": [
    "### What do we mean by \"Social Implications?\"\n",
    "\n",
    "Aside from questions of *should* there are questions of *does*. How *does* a robot's design influence the social structures in which it operates? \n",
    "\n",
    "For example, does a factory robot eliminate jobs, or does it simply redefine human roles? Does it obviate specialized training or education for human workers? Does it require more? Does a self-driving car erode trust in robotics as a whole, or strengthen it? Does it and/or will it produce less skilled or differently-skilled human drivers? \n",
    "\n",
    "In another relatively easy example, how might a robot designed to help young children develop appropriate conflict resolution skills improve those skills? Does it have any effect on how children in that environment interact with each other? Beyond the robot's immediate environment, how does its presence influence the jobs of people who teach the children? How will it affect those childrens' future relationships?\n",
    "\n",
    "In a more difficult example, we might think about how an educational mobile robot kit (like the Romi) might shape young students' perceptions of the field of robotics, and how likely it is to encourage them to pursue robotics as a career. If the kit leaves positive impressions, our field may gain new brilliant minds. But how might those impressions be influenced by geographic, cultural, or socioeconomic factors? Does the robot work well on all floor surfaces? In all lighting conditions? How accessible are the hardware and software used to program the robot? How expensive and/or available are its batteries?\n",
    "\n",
    "These are all hard questions, but they are questions that we should be thinking about at the front-end of *any* robotics project, all the way through to a robot's deployment in the real world and through its lifecycle with its end-user(s). As systems thinkers, you understand that there is coupling between \"elements\" in a larger system, and we have to be careful to \"scope\" our model of a robot and its influence on its broader environment carefully. "
   ]
  },
  {
   "cell_type": "markdown",
   "id": "2666408f",
   "metadata": {},
   "source": [
    "### What do we mean by \"Environmental Implications?\"\n",
    "\n",
    "Many robots are *physically embodied*, which makes talking about their environmental impact relatively concrete. When we talk about environmental impact of these robots, we might be talking about the world as a whole (e.g. climate change, waste accumulation, sustainability), but we are *probably* at least talking about the *natural* environment adjacent to the robot and how that might be affected by it at some point during its life cycle. \n",
    "\n",
    "However, there are also ways in which robots that are *not* embodied (e.g. chatbots) exert influence over the natural environment. If they dispense advice that is inconsistent with sustainable practices, for example, they may be considered to be, in a sense, \"culpable\" for that advice and its ramifications. If we go back to our working definition of a \"robot,\" we see that it's possible for pure algorithms that act to help *people make decisions* can possibly carry out actions that influence their surroundings. \n",
    "\n",
    "So whether a robot is embodied or not, and whether its *primary* actions or life cycle are sustainable or not is really only the tip of the iceberg. It is also important to consider the secondary and tertiary impacts of robots (and robotic algorithms) on sustainability and our natural environment too. \n",
    "\n",
    "Consider, for example, a logging robot that uses a random exploration algorithm to traverse a wooded area looking for trees that are worth harvesting. Is that random exploration algorithm going to cause issues with erosion? With new growth in a mixed-age forest? Would it be better for it to stick to known routes that are devoid of vegetation until it gets \"close enough\" to a particular stand of trees?"
   ]
  },
  {
   "cell_type": "markdown",
   "id": "ecde6920",
   "metadata": {},
   "source": [
    "## Assignment\n",
    "\n",
    "We all come in to ES302 this semester with a different reason for being here. Think about why it is that *you* wanted to become a roboticist (or at least, study robotics in college). Are you into autonomous ground vehicles? Flying \"drones?\" Humanoid robots? Are you interested in robot perception? Control/Planning?\n",
    "\n",
    "Use the interest you bring to the field of robotics to drive your choice of a recent academic robotics paper to analyze from a \"broader impacts\" perspective. \n",
    "\n",
    "* Browse the procedings of the [2024 IEEE International Conference on Robotics and Automation (ICRA)](https://ieeexplore.ieee.org/xpl/conhome/10609961/proceeding) and/or the [2023 IEEE/RSJ International Conference on Intelligent Robots and Systems (IROS)](https://ieeexplore.ieee.org/xpl/conhome/10341341/proceeding) . Find a paper whose title/abstract interests you. You don't have to understand all of the technical content in the paper you choose. Make sure that the paper actually deals with a robot or facet of robotics that will allow you to react to its content in ethical, social, and environmental dimensions.\n",
    "* Read this paper. Reading science is hard, but there are [resources](https://www.science.org/content/article/how-seriously-read-scientific-paper) that are very helpful. Make sure you understand how the authors contextualize and motivate their work, what their goals for the paper are, and how they achieve those goals. If you are unsure about terms, methods, etc. that you think are important to understanding the work, please reach out to prof. Brown. Remember that you do *not* need to be confident with all of the technical content of the paper, but you *do* need to understand what the authors did, how they did it, how they validated their approach, and why they did what they did.\n",
    "\n",
    "\n",
    "Then, You will write a \"Reaction Paper\" that summarizes the authors' work and explains how the work fits into the broader picture of robotics, specifically analyzing the work's social, environmental, and ethical impact."
   ]
  },
  {
   "cell_type": "markdown",
   "id": "497749fa",
   "metadata": {},
   "source": [
    "## Expectations\n",
    "\n",
    "Create and edit your submission using Google Docs. Be sure that your document is in a subfolder of your course shared folder called A01/, and be sure to review the [Google Docs Resource](../01_Background_Resources/01E_Google_Docs_Resources.ipynb), which explains how to use citations, templates, figures, and equations in Google Docs. No specific citation format is required for this submission, and no specific style guide or template is required, but you may find the Google Docs resource helpful anyway. **This assignment should have a target length of 2-4 pages double spaced, but this is just a target. If you need more space, you may use it.**\n",
    "\n",
    "**Be sure to address the following in your paper:**\n",
    "\n",
    "1. Summarize the main contributions of the paper, writing for an audience that is familiar with robotics but may not be familiar with field-specific jargon. Try to summarize the work in a way that is complete but understandable to your peers in ES302. What sub-field of robotics are they working in? What type(s) of robot(s) does their approach apply to? What problem are they hoping to solve? How did they solve it? How did they validate their approach (simulations, experiments, proofs)? **(10 points)**\n",
    "2. Explain how the authors' work fits into the bigger picture in their sub-field of robotics. Use references as appropriate, which you may be able to pull at least partially from the authors' reference lists. **(5 points)**\n",
    "3. Explain whether and how the authors situate their work with respect to *social* impacts and implications of their approach. Bringing in one or two other references from either popular media, the press, or scientific publications, make a case that either supports the authors' efforts or explains how they could have done a better job taking social implications into account in their work. **(5 points)**\n",
    "3. Explain whether and how the authors situate their work with respect to *environmental* impacts and implications of their approach. Bringing in one or two other references from either popular media, the press, or scientific publications, make a case that either supports the authors' efforts or explains how they could have done a better job taking environmental implications into account in their work. **(5 points)**\n",
    "4. Explain whether and how the authors situate their work with respect to *ethical* considerations related to the implementation of their approach. Bringing in one or two other references from either popular media, the press, or scientific publications, make a case that either supports the authors' efforts or explains how they could have done a better job taking ethical considerations into account in their work. What ethical issues may arise from their work and how might they be mitigated? **(5 points)**\n",
    "\n",
    "After receiving a score for your initial draft, you will receive feedback from your instructor, which you will address in a revised submission. The due date for the revision is contingent upon course progress."
   ]
  }
 ],
 "metadata": {
  "kernelspec": {
   "display_name": "Python 3 (ipykernel)",
   "language": "python",
   "name": "python3"
  },
  "language_info": {
   "codemirror_mode": {
    "name": "ipython",
    "version": 3
   },
   "file_extension": ".py",
   "mimetype": "text/x-python",
   "name": "python",
   "nbconvert_exporter": "python",
   "pygments_lexer": "ipython3",
   "version": "3.9.9"
  },
  "toc": {
   "base_numbering": 1,
   "nav_menu": {},
   "number_sections": true,
   "sideBar": true,
   "skip_h1_title": false,
   "title_cell": "Table of Contents",
   "title_sidebar": "Contents",
   "toc_cell": true,
   "toc_position": {},
   "toc_section_display": true,
   "toc_window_display": false
  }
 },
 "nbformat": 4,
 "nbformat_minor": 5
}
