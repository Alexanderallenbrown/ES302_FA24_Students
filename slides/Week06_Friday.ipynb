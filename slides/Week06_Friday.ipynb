{
 "cells": [
  {
   "cell_type": "markdown",
   "id": "a546e094",
   "metadata": {
    "slideshow": {
     "slide_type": "skip"
    },
    "toc": true
   },
   "source": [
    "<h1>Table of Contents<span class=\"tocSkip\"></span></h1>\n",
    "<div class=\"toc\"><ul class=\"toc-item\"><li><span><a href=\"#Week-06-Friday\" data-toc-modified-id=\"Week-06-Friday-1\"><span class=\"toc-item-num\">1&nbsp;&nbsp;</span>Week 06 Friday</a></span></li><li><span><a href=\"#Announcements\" data-toc-modified-id=\"Announcements-2\"><span class=\"toc-item-num\">2&nbsp;&nbsp;</span>Announcements</a></span></li><li><span><a href=\"#Goals\" data-toc-modified-id=\"Goals-3\"><span class=\"toc-item-num\">3&nbsp;&nbsp;</span>Goals</a></span></li><li><span><a href=\"#What-does-a-quaternion-represent?\" data-toc-modified-id=\"What-does-a-quaternion-represent?-4\"><span class=\"toc-item-num\">4&nbsp;&nbsp;</span>What does a quaternion represent?</a></span></li><li><span><a href=\"#Quaternion-math-is-unusual.-Think-of-i,j,k-more-like-complex-numbers-than-unit-vectors\" data-toc-modified-id=\"Quaternion-math-is-unusual.-Think-of-i,j,k-more-like-complex-numbers-than-unit-vectors-5\"><span class=\"toc-item-num\">5&nbsp;&nbsp;</span>Quaternion math is unusual. Think of i,j,k more like complex numbers than unit vectors</a></span></li><li><span><a href=\"#How-do-Quaternions-get-multiplied-with-one-another?\" data-toc-modified-id=\"How-do-Quaternions-get-multiplied-with-one-another?-6\"><span class=\"toc-item-num\">6&nbsp;&nbsp;</span>How do Quaternions get multiplied with one another?</a></span></li><li><span><a href=\"#Multiplying-quaternions-can-also-be-conceptualized-as-a-combination-of-a-vector-cross-product,-a-vector-dot-product,-and-a-scalar-multiplication.\" data-toc-modified-id=\"Multiplying-quaternions-can-also-be-conceptualized-as-a-combination-of-a-vector-cross-product,-a-vector-dot-product,-and-a-scalar-multiplication.-7\"><span class=\"toc-item-num\">7&nbsp;&nbsp;</span>Multiplying quaternions can also be conceptualized as a combination of a vector cross product, a vector dot product, and a scalar multiplication.</a></span></li><li><span><a href=\"#Remember-what-a-quaternion-represents!\" data-toc-modified-id=\"Remember-what-a-quaternion-represents!-8\"><span class=\"toc-item-num\">8&nbsp;&nbsp;</span>Remember what a quaternion represents!</a></span></li><li><span><a href=\"#So-how-do-I-perform-a-rotation-using-a-quaternion?\" data-toc-modified-id=\"So-how-do-I-perform-a-rotation-using-a-quaternion?-9\"><span class=\"toc-item-num\">9&nbsp;&nbsp;</span>So how do I perform a rotation using a quaternion?</a></span></li><li><span><a href=\"#Using-Quaternions-in-Python\" data-toc-modified-id=\"Using-Quaternions-in-Python-10\"><span class=\"toc-item-num\">10&nbsp;&nbsp;</span>Using Quaternions in Python</a></span></li><li><span><a href=\"#Exercise\" data-toc-modified-id=\"Exercise-11\"><span class=\"toc-item-num\">11&nbsp;&nbsp;</span>Exercise</a></span></li><li><span><a href=\"#Exercise-2:-MAPPING\" data-toc-modified-id=\"Exercise-2:-MAPPING-12\"><span class=\"toc-item-num\">12&nbsp;&nbsp;</span>Exercise 2: MAPPING</a></span></li><li><span><a href=\"#Romi-Prox-Sensor-Lookup-Table\" data-toc-modified-id=\"Romi-Prox-Sensor-Lookup-Table-13\"><span class=\"toc-item-num\">13&nbsp;&nbsp;</span>Romi Prox Sensor Lookup Table</a></span></li></ul></div>"
   ]
  },
  {
   "cell_type": "markdown",
   "id": "498a6b94",
   "metadata": {
    "slideshow": {
     "slide_type": "slide"
    }
   },
   "source": [
    "## Week 06 Friday\n",
    "Oct 4, 2024\n",
    "\n",
    "## Announcements\n",
    "1. A06 due **Monday, 10/7/2024**\n",
    "\n",
    "## Goals\n",
    "\n",
    "1. Quaternions\n",
    "2. Work time for Class exercises: Odometry and MAPPING!\n"
   ]
  },
  {
   "cell_type": "markdown",
   "id": "95212810",
   "metadata": {
    "slideshow": {
     "slide_type": "slide"
    }
   },
   "source": [
    "# Complex Rotations with Quaternions"
   ]
  },
  {
   "cell_type": "markdown",
   "id": "a4bc439c",
   "metadata": {},
   "source": [
    "A quaternion is a 4-tuple that is said to consist of a \"scalar\" and vector portion:\n",
    "\n",
    "\\begin{equation}\n",
    "q \\equiv \\underbrace{a}_{scalar\\: part} + \\underbrace{bi+cj+dk}_{vector \\: part}\n",
    "\\end{equation}"
   ]
  },
  {
   "cell_type": "markdown",
   "id": "6c3031af",
   "metadata": {
    "slideshow": {
     "slide_type": "slide"
    }
   },
   "source": [
    "## What does a quaternion represent?\n",
    "\n",
    "A quaternion represents a rotation of some angle $\\theta$ about some axis $\\hat{k} = \\begin{bmatrix}k_x \\\\ k_y \\\\ k_z\\end{bmatrix}$"
   ]
  },
  {
   "cell_type": "markdown",
   "id": "05ff3a24",
   "metadata": {},
   "source": [
    "If $q = \\epsilon_1 + \\epsilon_2 i + \\epsilon_3 j + \\epsilon_4 k$, we can compute these components using the axis and angle using the following:\n",
    "\n",
    "\\begin{equation}\\left.\n",
    "\\begin{aligned}\n",
    "\\epsilon_1 &= \\cos\\left(\\frac{\\theta}{2}\\right)\\\\\n",
    "\\epsilon_2 &= k_x \\sin\\left(\\frac{\\theta}{2}\\right)\\\\\n",
    "\\epsilon_3 &= k_y \\sin\\left(\\frac{\\theta}{2}\\right)\\\\\n",
    "\\epsilon_4 &= k_z \\sin\\left(\\frac{\\theta}{2}\\right)\n",
    "\\end{aligned}\\right\\}\\text{defines a \"unit\" quaternion, so: }\\epsilon_1^2+\\epsilon_2^2+\\epsilon_3^2+\\epsilon_4^2=1\n",
    "\\end{equation}"
   ]
  },
  {
   "cell_type": "markdown",
   "id": "a2d3bb08",
   "metadata": {},
   "source": [
    ".\n",
    "\n",
    ".\n",
    "\n",
    ".\n",
    "\n",
    "."
   ]
  },
  {
   "cell_type": "markdown",
   "id": "ecaee12e",
   "metadata": {
    "slideshow": {
     "slide_type": "slide"
    }
   },
   "source": [
    "## Quaternion math is unusual. Think of i,j,k more like complex numbers than unit vectors\n",
    "Although quaternions are said to have a \"scalar part\" and a \"vector part,\" they are a generalization or extension of complex numbers. They do *not* use the \"unit vectors\" i,j,k from Cartesian geometry.\n",
    "\n",
    "**Quaternion i,j,k rules**\n",
    "$$i\\cdot i = j\\cdot j = k\\cdot k = i\\cdot j\\cdot k = -1$$\n",
    "$$i\\cdot j=k$$\n",
    "$$j\\cdot k=i$$\n",
    "$$k\\cdot i=j$$\n",
    "$$j\\cdot i=-k$$\n",
    "$$k\\cdot j=-i$$\n",
    "$$i\\cdot k=-j$$\n",
    "\n",
    "This also means that quaternions have a \"complex conjugate.\"\n",
    "\\begin{equation}\n",
    "q^* \\equiv \\underbrace{a}_{scalar\\: part} - \\underbrace{bi-cj-dk}_{vector \\: part}\n",
    "\\end{equation}"
   ]
  },
  {
   "cell_type": "markdown",
   "id": "4e60dc51",
   "metadata": {},
   "source": [
    ".\n",
    "\n",
    ".\n",
    "\n",
    ".\n",
    "\n",
    "."
   ]
  },
  {
   "cell_type": "markdown",
   "id": "bd71f5fc",
   "metadata": {
    "slideshow": {
     "slide_type": "slide"
    }
   },
   "source": [
    "## How do Quaternions get multiplied with one another?\n",
    "\n",
    "Quaternion multiplication is more like \"simple\" multiplication of complex numbers than anything else. Suppose I have two quaternions:\n",
    "\n",
    "\\begin{equation}\n",
    "\\begin{aligned}\n",
    "p_1 &= q_{1w} + q_{1x}i+ q_{1y}j + q_{1z}k\\\\\n",
    "p_2 &= q_{2w} + q_{2x}i+ q_{2y}j + q_{2z}k\\\\\n",
    "\\end{aligned}\n",
    "\\end{equation}\n",
    "\n",
    "The multiplication $q_1q_2$ is simply performed by distributing (or \"foiling\") the components and finding the result using the rules of multiplication for $i,j,k$ above. In other words, we compute:\n",
    "\n",
    "\\begin{equation}\n",
    "\\begin{aligned}\n",
    "p_1p_2 &=& \\left(q_{1w} + q_{1x}i+ q_{1y}j + q_{1z}k\\right)\\left(q_{2w} + q_{2x}i+ q_{2y}j + q_{2z}k\\right)\\\\\n",
    "&=& q_{1w}q_{2w} - q_{1x}q_{2x}-q_{1y}q_{2y}-q_{1z}q_{2z}\\\\&&+ \\left(q_{1w}q_{2x}+q_{2w}q_{1x}+ q_{1y}q_{2z}-q_{1z}q_{2y} \\right)i \\\\&&+ \\left(q_{1w}q_{2y}+q_{2w}q_{1y}+q_{1z}q_{2x}-q_{1x} q_{2z} \\right)j\\\\&&+ \\left(q_{1z}q_{2x}+q_{2w}q_{1z}+q_{1x}q_{2y}-q_{1y}q_{2x}\\right)k\n",
    "\\end{aligned}\n",
    "\\end{equation}"
   ]
  },
  {
   "cell_type": "markdown",
   "id": "03904997",
   "metadata": {
    "slideshow": {
     "slide_type": "slide"
    }
   },
   "source": [
    "## Multiplying quaternions can also be conceptualized as a combination of a vector cross product, a vector dot product, and a scalar multiplication."
   ]
  },
  {
   "cell_type": "markdown",
   "id": "7b2d7403",
   "metadata": {},
   "source": [
    "If we think of the \"w-component\" as a traditional \"scalar\" part of the quaternion and the rest as a traditional \"vector\" part, we could write any quaternion as $q = q_w + \\vec{q}_{xyz}$. In doing so, we could break the computation above down into use more traditional scalar and vector products, and express $p_1p_2$ as a combination of a scalar part and a vector part as well:"
   ]
  },
  {
   "cell_type": "markdown",
   "id": "04970538",
   "metadata": {},
   "source": [
    "\\begin{equation}\\begin{aligned}\n",
    "(\\vec{q_1q_2})_{xyz} &= \\vec{q}_{1,xyz}\\times\\vec{q}_{2,xyz} + q_{1,w}\\vec{q}_{2,xyz} + q_{2,w}\\vec{q}_{1,xyz}\\\\\n",
    "(q_1q_2)_{w} & = q_{1,w}q_{2,w} - \\vec{q}_{1,xyz}\\cdot\\vec{q}_{2,xyz}\n",
    "\\end{aligned}\\end{equation}"
   ]
  },
  {
   "cell_type": "markdown",
   "id": "62ba9b6e",
   "metadata": {
    "slideshow": {
     "slide_type": "slide"
    }
   },
   "source": [
    "## Remember what a quaternion represents!\n",
    "\n",
    "A quaternion represents a rotation of some angle $\\theta$ about some axis $\\hat{k} = \\begin{bmatrix}k_x \\\\ k_y \\\\ k_z\\end{bmatrix}$"
   ]
  },
  {
   "cell_type": "markdown",
   "id": "836b08e3",
   "metadata": {},
   "source": [
    "If $q = \\epsilon_1 + \\epsilon_2 i + \\epsilon_3 j + \\epsilon_4 k$, we can compute these components using the axis and angle using the following:\n",
    "\n",
    "\\begin{equation}\\left.\n",
    "\\begin{aligned}\n",
    "\\epsilon_1 &= \\cos\\left(\\frac{\\theta}{2}\\right)\\\\\n",
    "\\epsilon_2 &= k_x \\sin\\left(\\frac{\\theta}{2}\\right)\\\\\n",
    "\\epsilon_3 &= k_y \\sin\\left(\\frac{\\theta}{2}\\right)\\\\\n",
    "\\epsilon_4 &= k_z \\sin\\left(\\frac{\\theta}{2}\\right)\n",
    "\\end{aligned}\\right\\}\\text{defines a \"unit\" quaternion, so: }\\epsilon_1^2+\\epsilon_2^2+\\epsilon_3^2+\\epsilon_4^2=1\n",
    "\\end{equation}"
   ]
  },
  {
   "cell_type": "markdown",
   "id": "e95f3e97",
   "metadata": {},
   "source": [
    ".\n",
    "\n",
    ".\n",
    "\n",
    ".\n",
    "\n",
    "."
   ]
  },
  {
   "cell_type": "markdown",
   "id": "9398e005",
   "metadata": {
    "slideshow": {
     "slide_type": "slide"
    }
   },
   "source": [
    "## So how do I perform a rotation using a quaternion?"
   ]
  },
  {
   "cell_type": "markdown",
   "id": "3c06eafb",
   "metadata": {},
   "source": [
    "And transforming a point in 3D homogeneous coords, $\\vec{p}_h=\\begin{bmatrix}x_p & y_p & z_p & 1\\end{bmatrix}^T$ using this quaternion can be accomplished by first writing $\\vec{p}_h$ as a quaternion itself, i.e. $p_h = \\left(1 + x_p i + y_pj + z_p k\\right)$, rather than in standard vector form. Then, the rotated point can be recovered in quaternion form by computing:\n",
    "\n",
    "\\begin{equation}\n",
    "p^\\prime = qp_hq^*\n",
    "\\end{equation}"
   ]
  },
  {
   "cell_type": "markdown",
   "id": "5013164d",
   "metadata": {},
   "source": [
    ".\n",
    "\n",
    ".\n",
    "\n",
    ".\n",
    "\n",
    "."
   ]
  },
  {
   "cell_type": "markdown",
   "id": "a54ce5d6",
   "metadata": {
    "slideshow": {
     "slide_type": "slide"
    }
   },
   "source": [
    "## Using Quaternions in Python\n",
    "\n",
    "Rather than writing our own functions for quaternion manipulation, I'd like to point you to [this](http://kieranwynn.github.io/pyquaternion/) wonderful library. It comes with its own documentation, and is fairly easy to install and use. What I **do not recommend** is spending a bunch of time trying to rotate points by hand using quaternions. You may be forced to do this once or twice in graduate school (should you choose to go) but you will not have to do it in ES302."
   ]
  },
  {
   "cell_type": "markdown",
   "id": "e6b68b5e",
   "metadata": {
    "slideshow": {
     "slide_type": "slide"
    }
   },
   "source": [
    "## Exercise\n",
    "\n",
    "Modify the Romi controller in the Week05_InClass world. Add a function that computes a new estimate of odometry based on old estimates, along with current wheel velocities. Your function should have the form\n",
    "\n",
    "```python\n",
    "def doOdometry(Xold,Yold,Yawold,Vl,Vr,timestep):\n",
    "    #your function should:\n",
    "    #1. Compute yaw rate based on Vl, Vr, and romi geometry\n",
    "    #2. Use Euler integration to find Yawnew based on Yawold, yaw rate and timestep\n",
    "    #3. Compute body-fixed velocity bv based on Vl, Vr, and romi geometry\n",
    "    #4. Rotate body-fixed velocity to find VX, VY in global frame\n",
    "    #5. Use Euler integration to find Xnew, Ynew based on Xold, Yold, VX, Vy, timestep\n",
    "    \n",
    "    return Xnew, Ynew, Yawnew #can return more (i.e. yaw rate) if you like\n",
    "```\n",
    "\n",
    "Remember, Euler integration allows us to compute a \"new\" value for some integral $y(k)$ based on an \"old\" value $y(k-1)$, a velocity $\\dot{y}(k-1)$, and a timestep $\\Delta t$ by:\n",
    "\n",
    "\\begin{equation}\n",
    "y(k) = y(k-1) + \\dot{y}(k-1)\\Delta t\n",
    "\\end{equation}\n",
    "\n",
    "Which can be written without using indices and without storing our estimates in a \"vector\" by simply writing:\n",
    "\n",
    "\\begin{equation}\n",
    "y_{new} = y_{old} + \\dot{y}_{old}\\Delta t\n",
    "\\end{equation}"
   ]
  },
  {
   "cell_type": "markdown",
   "id": "4fb241ea",
   "metadata": {},
   "source": [
    " .\n",
    " \n",
    " .\n",
    " \n",
    " .\n",
    " \n",
    " . "
   ]
  },
  {
   "cell_type": "markdown",
   "id": "9632cf17",
   "metadata": {
    "slideshow": {
     "slide_type": "slide"
    }
   },
   "source": [
    "## Exercise 2: MAPPING\n",
    "\n",
    "Modify the Romi controller in the Week05_InClass world. Add a function that computes an estimate of the **global position** of any objects in the world that the Romi \"sees\" with its distance sensor.\n",
    "\n",
    "* Use [lookup table](https://github.com/Alexanderallenbrown/ES302_Webots/blob/437461d4fe4ebda39ed2a5eb5bfd7e30ac2cedbd/protos/romi.proto#L108C21-L137C22) in Romi.proto to convert measured distance to meters from Romi's built-in distance sensor\n",
    "   - Store table as numpy array\n",
    "   - Interpolate using numpy.interp()\n",
    "   - https://numpy.org/doc/stable/reference/generated/numpy.interp.html\n",
    "* Using Romi's odometry and measured distance, store allocentric coordinates of any detected object in a text file.\n",
    "   - careful with this measurement. It's from the claw edge, not from Romi center. Does this matter? Think about it, and compensate if necessary (add offset, which you can measure for now)\n",
    "* Do not store values that are too close or too far to trust.\n",
    "* Plot \"map\" by plotting XY coordinates of detected objects. Compare to shape of Romi arena."
   ]
  },
  {
   "cell_type": "markdown",
   "id": "a45195e4",
   "metadata": {},
   "source": [
    " .\n",
    " \n",
    " .\n",
    " \n",
    " .\n",
    " \n",
    " . "
   ]
  },
  {
   "cell_type": "markdown",
   "id": "8a89c617",
   "metadata": {
    "hide_input": true,
    "slideshow": {
     "slide_type": "subslide"
    }
   },
   "source": [
    "## Romi Prox Sensor Lookup Table\n",
    "Columns are: $\\begin{bmatrix} dist(m) & dist(counts) & variance (m^2)\\end{bmatrix}$\n",
    "\n",
    "```python\n",
    "lookupTable = np.array([[0.0254,991,.005],[0.0508,987,.005],[0.0762,980,.005],[0.1016,853,.005],[0.127,712,.005],[0.1524,585,.005],[0.1778,502,.005],[0.2032,435,.005],[0.2286,383,.005],[0.254,346,.005],[0.2794,316,.005],[0.3048,296,.005],[0.3302,281,.005],[0.3556,268,.005],[0.381,255,.005],[0.4064,248,.005],[0.4318,239,.005],[0.4572,233,.005],[0.4826,229,.005],[0.508,223,.005],[0.5334,219,.005],[0.5588,215,.005],[0.5842,211,.005],[0.6096,209,.005],[0.635,207,.005],[0.6604,205,.005],[0.6858,203,.005],[0.7112,201,.005],[0.7366,200,.005]])\n",
    "```"
   ]
  },
  {
   "cell_type": "code",
   "execution_count": null,
   "id": "4dad5d2b",
   "metadata": {},
   "outputs": [],
   "source": []
  }
 ],
 "metadata": {
  "celltoolbar": "Slideshow",
  "kernelspec": {
   "display_name": "Python 3 (ipykernel)",
   "language": "python",
   "name": "python3"
  },
  "language_info": {
   "codemirror_mode": {
    "name": "ipython",
    "version": 3
   },
   "file_extension": ".py",
   "mimetype": "text/x-python",
   "name": "python",
   "nbconvert_exporter": "python",
   "pygments_lexer": "ipython3",
   "version": "3.9.9"
  },
  "toc": {
   "base_numbering": 1,
   "nav_menu": {},
   "number_sections": true,
   "sideBar": false,
   "skip_h1_title": true,
   "title_cell": "Table of Contents",
   "title_sidebar": "Contents",
   "toc_cell": true,
   "toc_position": {},
   "toc_section_display": true,
   "toc_window_display": false
  }
 },
 "nbformat": 4,
 "nbformat_minor": 5
}
