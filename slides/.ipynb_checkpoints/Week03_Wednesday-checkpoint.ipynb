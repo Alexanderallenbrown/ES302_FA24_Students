{
 "cells": [
  {
   "cell_type": "markdown",
   "id": "0364a635",
   "metadata": {
    "slideshow": {
     "slide_type": "skip"
    },
    "toc": true
   },
   "source": [
    "<h1>Table of Contents<span class=\"tocSkip\"></span></h1>\n",
    "<div class=\"toc\"><ul class=\"toc-item\"><li><span><a href=\"#Week-03-Wednesday\" data-toc-modified-id=\"Week-03-Wednesday-1\"><span class=\"toc-item-num\">1&nbsp;&nbsp;</span>Week 03 Wednesday</a></span></li><li><span><a href=\"#Announcements\" data-toc-modified-id=\"Announcements-2\"><span class=\"toc-item-num\">2&nbsp;&nbsp;</span>Announcements</a></span></li><li><span><a href=\"#Goals\" data-toc-modified-id=\"Goals-3\"><span class=\"toc-item-num\">3&nbsp;&nbsp;</span>Goals</a></span></li></ul></div>"
   ]
  },
  {
   "cell_type": "markdown",
   "id": "498a6b94",
   "metadata": {
    "slideshow": {
     "slide_type": "slide"
    }
   },
   "source": [
    "## Week 03 Wednesday\n",
    "Sept 11, 2024\n",
    "\n",
    "## Announcements\n",
    "1. A03 (robot programming 1) is due **Friday, Sept 13**\n",
    "2. A05 Lit review is released; due Oct 11. First **intermediate** deadline is **Wednesday 9/18/2024**\n",
    "\n",
    "Four robots have been function-tested (one needs repair and was put away). If you run into any problems collecting data from them or making them move, please let me know ASAP.\n",
    "\n",
    "## Goals\n",
    "\n",
    "1. Work time for A03. **Use Arduino 1.8.x, not 2.x!!**\n",
    "2. If finished, try following the instructions in 02A_Romi_Resource to control Romi from a PC. Implement your \"explorer\" FSM from last week. \n",
    "\n"
   ]
  },
  {
   "cell_type": "code",
   "execution_count": null,
   "id": "ae02d1c0",
   "metadata": {},
   "outputs": [],
   "source": []
  }
 ],
 "metadata": {
  "celltoolbar": "Slideshow",
  "kernelspec": {
   "display_name": "Python 3 (ipykernel)",
   "language": "python",
   "name": "python3"
  },
  "language_info": {
   "codemirror_mode": {
    "name": "ipython",
    "version": 3
   },
   "file_extension": ".py",
   "mimetype": "text/x-python",
   "name": "python",
   "nbconvert_exporter": "python",
   "pygments_lexer": "ipython3",
   "version": "3.9.9"
  },
  "toc": {
   "base_numbering": 1,
   "nav_menu": {},
   "number_sections": true,
   "sideBar": false,
   "skip_h1_title": true,
   "title_cell": "Table of Contents",
   "title_sidebar": "Contents",
   "toc_cell": true,
   "toc_position": {},
   "toc_section_display": true,
   "toc_window_display": false
  }
 },
 "nbformat": 4,
 "nbformat_minor": 5
}
