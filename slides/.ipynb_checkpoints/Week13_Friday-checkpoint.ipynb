{
 "cells": [
  {
   "cell_type": "markdown",
   "id": "17db2060",
   "metadata": {
    "slideshow": {
     "slide_type": "skip"
    },
    "toc": true
   },
   "source": [
    "<h1>Table of Contents<span class=\"tocSkip\"></span></h1>\n",
    "<div class=\"toc\"><ul class=\"toc-item\"><li><span><a href=\"#Week-13-Friday\" data-toc-modified-id=\"Week-13-Friday-1\"><span class=\"toc-item-num\">1&nbsp;&nbsp;</span>Week 13 Friday</a></span></li><li><span><a href=\"#-Last-Time-\" data-toc-modified-id=\"-Last-Time--2\"><span class=\"toc-item-num\">2&nbsp;&nbsp;</span> Last Time </a></span><ul class=\"toc-item\"><li><span><a href=\"#-This-is-an-equation-for-convolution!-\" data-toc-modified-id=\"-This-is-an-equation-for-convolution!--2.1\"><span class=\"toc-item-num\">2.1&nbsp;&nbsp;</span> This is an equation for convolution! </a></span></li></ul></li><li><span><a href=\"#Last-Time:\" data-toc-modified-id=\"Last-Time:-3\"><span class=\"toc-item-num\">3&nbsp;&nbsp;</span>Last Time:</a></span></li><li><span><a href=\"#As-an-algorithm-(Python-pseudocode):\" data-toc-modified-id=\"As-an-algorithm-(Python-pseudocode):-4\"><span class=\"toc-item-num\">4&nbsp;&nbsp;</span>As an algorithm (Python pseudocode):</a></span></li><li><span><a href=\"#Implemented-as-actual-Python-code:\" data-toc-modified-id=\"Implemented-as-actual-Python-code:-5\"><span class=\"toc-item-num\">5&nbsp;&nbsp;</span>Implemented as actual Python code:</a></span></li><li><span><a href=\"#Update-belief:\" data-toc-modified-id=\"Update-belief:-6\"><span class=\"toc-item-num\">6&nbsp;&nbsp;</span>Update belief:</a></span></li><li><span><a href=\"#How-do-measurements-influence-our-belief?\" data-toc-modified-id=\"How-do-measurements-influence-our-belief?-7\"><span class=\"toc-item-num\">7&nbsp;&nbsp;</span>How do measurements influence our belief?</a></span></li><li><span><a href=\"#Conditional-Probability\" data-toc-modified-id=\"Conditional-Probability-8\"><span class=\"toc-item-num\">8&nbsp;&nbsp;</span>Conditional Probability</a></span></li><li><span><a href=\"#Conditional-Probability:-Demo\" data-toc-modified-id=\"Conditional-Probability:-Demo-9\"><span class=\"toc-item-num\">9&nbsp;&nbsp;</span><a href=\"https://setosa.io/conditional/\" rel=\"nofollow\" target=\"_blank\">Conditional Probability: Demo</a></a></span><ul class=\"toc-item\"><li><span><a href=\"#The-Law-of-Total-Probability:-&quot;We-must-be-somewhere&quot;\" data-toc-modified-id=\"The-Law-of-Total-Probability:-&quot;We-must-be-somewhere&quot;-9.1\"><span class=\"toc-item-num\">9.1&nbsp;&nbsp;</span>The Law of Total Probability: \"We must be somewhere\"</a></span></li><li><span><a href=\"#Rearranging-the-law-of-conditional-probability-gives-us-something-special:\" data-toc-modified-id=\"Rearranging-the-law-of-conditional-probability-gives-us-something-special:-9.2\"><span class=\"toc-item-num\">9.2&nbsp;&nbsp;</span>Rearranging the law of conditional probability gives us something special:</a></span></li></ul></li><li><span><a href=\"#Classic-Bayes's-rule-example:\" data-toc-modified-id=\"Classic-Bayes's-rule-example:-10\"><span class=\"toc-item-num\">10&nbsp;&nbsp;</span>Classic Bayes's rule example:</a></span></li><li><span><a href=\"#What's-next?\" data-toc-modified-id=\"What's-next?-11\"><span class=\"toc-item-num\">11&nbsp;&nbsp;</span>What's next?</a></span></li><li><span><a href=\"#WORK-TIME!\" data-toc-modified-id=\"WORK-TIME!-12\"><span class=\"toc-item-num\">12&nbsp;&nbsp;</span>WORK TIME!</a></span></li></ul></div>"
   ]
  },
  {
   "cell_type": "markdown",
   "id": "6374b832",
   "metadata": {
    "slideshow": {
     "slide_type": "slide"
    }
   },
   "source": [
    "## Week 13 Friday\n",
    "Friday, Nov 22\n",
    "\n",
    "**Announcements**\n",
    "* A09 Assigned: Due Monday, Dec 2\n",
    "* A10 Assigned: Due Friday, Dec 13\n",
    "\n",
    "**Goals** \n",
    "* Introduction to probabilistic occupancy: Part 2\n",
    "* Work time"
   ]
  },
  {
   "cell_type": "markdown",
   "id": "3e620f54",
   "metadata": {
    "slideshow": {
     "slide_type": "slide"
    }
   },
   "source": [
    "<div style=\"width: 40%;height: 75%; float: left;\"> <h2> Last Time </h2><img src=\"figures/week13-convolution.png\"/> </div> \n",
    "<div style=\"width: 50%;height:75%; float:right;\">\n",
    "    <h3> This is an equation for convolution! </h3>\n",
    "    $$Bel(j)_k = \\sum_{i=0}^{p-1} H(i)\\cdot Bel\\left(j+i-\\frac{p-1}{2}\\right)_{k-1}$$\n",
    "    <hr>\n",
    "    our PDF $H$ with length $p$ is a \"kernel\" that we convolve over the prior belief to obtain an updated belief that accounts  for the additional uncertainty in our latest prediction. As time goes on, we get more and more uncertain.\n",
    "    <hr>\n",
    "    <strong> How do we fix this? Using measurements to reduce uncertainty!</strong>\n",
    "</div>"
   ]
  },
  {
   "cell_type": "markdown",
   "id": "18096e50",
   "metadata": {
    "slideshow": {
     "slide_type": "slide"
    }
   },
   "source": [
    "## Last Time:\n",
    "* Given a PDF of size $p$, $H = \\begin{bmatrix} H_0 & H_1 & \\ldots & H_{p-1} \\end{bmatrix}$\n",
    "* Given a Belief grid of size $m$, spanning $d$ meters: $Bel = \\begin{bmatrix} Bel_0 & Bel_1 & \\ldots & Bel_{m-1} \\end{bmatrix}$\n",
    "* We can predict how uncertainty progresses due to model uncertainty at each timestep by convolving $H$ with $Bel$"
   ]
  },
  {
   "cell_type": "markdown",
   "id": "6241a90b",
   "metadata": {
    "slideshow": {
     "slide_type": "slide"
    }
   },
   "source": [
    "## As an algorithm (Python pseudocode):\n",
    "---\n",
    "**for all timesteps k do:**\n",
    "* $\\hat{x}_k = f(\\hat{x}_{k-1},u_{k-1})\\leftarrow$ update model prediction\n",
    "\n",
    "* $\\hat{j}_{k} = int\\left(\\frac{m}{d}\\left(\\hat{x}_k -\\frac{d}{2m} \\right) \\right)\\leftarrow$ update cell estimate\n",
    "* $\\Delta j = \\hat{j}_k-\\hat{j}_{k-1}\\leftarrow$ update shift\n",
    "* $Bel_{old} = Bel \\leftarrow$ copy belief from prior timestep\n",
    "* for b in range(max(0,$\\Delta j$),min(m+$\\Delta j$,m)):\n",
    "  * $Bel(j+\\Delta j) = Bel_{old}(j)\\leftarrow$ shift belief\n",
    "* for r in range(0,m):\n",
    "  * $Bel[r]_{k}= \\sum_{i=0}^{p-1} H[r]\\cdot Bel\\left[r+i-\\frac{p-1}{2}\\right]\\leftarrow$ update belief\n",
    "* $\\hat{j}_k = argmax(Bel)\\leftarrow$ most likely estimate\n",
    "* $\\hat{x}_k = \\hat{j}_k\\frac{d}{m} + \\frac{d}{2m}\\leftarrow$ convert back to an estimate in true units"
   ]
  },
  {
   "cell_type": "markdown",
   "id": "5f7a9681",
   "metadata": {
    "slideshow": {
     "slide_type": "-"
    }
   },
   "source": [
    ".\n",
    "\n",
    ".\n",
    "\n",
    ".\n",
    "\n",
    ".\n",
    "\n",
    "."
   ]
  },
  {
   "cell_type": "markdown",
   "id": "07db71b7",
   "metadata": {
    "slideshow": {
     "slide_type": "slide"
    }
   },
   "source": [
    "## Implemented as actual Python code:"
   ]
  },
  {
   "cell_type": "code",
   "execution_count": 34,
   "id": "0661a51b",
   "metadata": {
    "hide_input": true,
    "slideshow": {
     "slide_type": "-"
    }
   },
   "outputs": [
    {
     "name": "stdout",
     "output_type": "stream",
     "text": [
      "H = [0.2 0.6 0.2]\n"
     ]
    },
    {
     "data": {
      "image/png": "[encoded data removed]",
      "text/plain": [
       "<Figure size 800x400 with 4 Axes>"
      ]
     },
     "metadata": {},
     "output_type": "display_data"
    }
   ],
   "source": [
    "import numpy as np\n",
    "import cv2\n",
    "import matplotlib.pyplot as plt\n",
    "\n",
    "#function to update dynamics\n",
    "def updateMotion(x,u):\n",
    "    #just a simple model for now\n",
    "    x = x+u\n",
    "    return x\n",
    "\n",
    "\n",
    "#function to get the index j in Bel given an x.\n",
    "def getCell(x,Bel,d):\n",
    "    m = np.size(Bel)\n",
    "    j = int((x-d/(2*m))*m/d)\n",
    "    return j\n",
    "\n",
    "#function to shift Bel probabilities given delta_j\n",
    "def shiftBelief(Bel,delta_j):\n",
    "    m= np.size(Bel)\n",
    "    #copy the Bel to keep an old copy\n",
    "    Belold = Bel\n",
    "    Bel = np.zeros(np.size(Bel))\n",
    "    #now loop through and shift\n",
    "    #print(\"delta_j = \"+str(delta_j))\n",
    "    #print(range(max([0,delta_j]),min(m-delta_j,m)))\n",
    "    for j in range(max([0,delta_j]),min(m-delta_j,m)):\n",
    "        # print(\"j=\"+str(j))\n",
    "        Bel[j+delta_j]=Belold[j]\n",
    "    return Bel\n",
    "\n",
    "#function to get the x coordinate of most likely j's center\n",
    "def getEstimate(j,Bel,d):\n",
    "    m = np.size(Bel)\n",
    "    x = j*d/m + d/(2*m)\n",
    "    return x\n",
    "\n",
    "# Function to display our belief histogram\n",
    "def dispBel(Bel):\n",
    "    #create an image to display to show us our belief\n",
    "    Bel_image = np.array([Bel])\n",
    "    Bel_image = np.dot(np.ones((np.size(Bel),1)),Bel_image)\n",
    "    Bel_image = cv2.resize(Bel_image,(3*np.size(Bel),3*np.size(Bel)))\n",
    "    Bel_image = Bel_image/np.max(Bel)\n",
    "    plt.imshow(Bel_image,cmap='gray')\n",
    "\n",
    "def doPropagate(Bel,xhat,u):\n",
    "    global d,Hx\n",
    "    #step 0: where were we?\n",
    "    j_old = getCell(xhat,Bel,d)\n",
    "    #step 1: propagate estimate using motion model\n",
    "    xhat = updateMotion(xhat,u)\n",
    "    # print(\"after update, xhat = \"+str(xhat))\n",
    "    #step 2: get new jhat\n",
    "    jhat = getCell(xhat,Bel,d)\n",
    "    # print(\"jhat- =\"+str(jhat))\n",
    "    #step 3: calculate shift\n",
    "    delta_j = jhat-j_old\n",
    "    # print(\"jhat = \"+str(jhat)+\", j_old = \"+str(j_old)+\", delta = \"+str(delta_j))\n",
    "    #update j old for next time\n",
    "    j_old = jhat\n",
    "    #step 4: shift belief!!\n",
    "    Bel = shiftBelief(Bel,delta_j)\n",
    "    #step 5: update Belief with uncertainty by convolving.\n",
    "#     print(Bel)\n",
    "    Bel = np.convolve(Hx,Bel,'same')\n",
    "#     print(Bel)\n",
    "    #get new jhat\n",
    "    jhat = np.argmax(Bel)\n",
    "    #get new xhat\n",
    "    xhat = getEstimate(jhat,Bel,d)\n",
    "    return Bel,xhat\n",
    "#now put these into a loop.\n",
    "#define a \"Bel\" which is actually an array of probabilities\n",
    "Bel = np.zeros(100)\n",
    "d = 1 #1cm grid 1m long\n",
    "\n",
    "#initialize our belief to a particular position\n",
    "x0 = 0.1\n",
    "j0 = getCell(x0,Bel,d)\n",
    "\n",
    "#initialize our estimates.\n",
    "xhat = x0\n",
    "jhat = j0\n",
    "Bel[jhat] = 1.0\n",
    "# print(Bel)\n",
    "\n",
    "#define a histogram H that represents uncertainty in motion model\n",
    "Hx = np.array([.2,.6,.2])\n",
    "print(\"H = \"+str(Hx))\n",
    "quit = False\n",
    "u = 0\n",
    "j_old = jhat\n",
    "k=0\n",
    "\n",
    "\n",
    "fig = plt.figure(figsize=(8,4))\n",
    "plt.subplot(1,4,1)\n",
    "dispBel(Bel)\n",
    "plt.title('k = '+str(0))\n",
    "while k<3:\n",
    "    Bel,xhat = doPropagate(Bel,xhat,.05)\n",
    "    plt.subplot(1,4,k+2)\n",
    "    dispBel(Bel)\n",
    "    plt.title('k = '+str(k+1))\n",
    "    k+=1\n",
    "\n"
   ]
  },
  {
   "cell_type": "markdown",
   "id": "9c98fbab",
   "metadata": {
    "slideshow": {
     "slide_type": "slide"
    }
   },
   "source": [
    "## How do measurements influence our belief?\n",
    "**They *should* improve it! By how much? We need some more tools.. but what we know is that:** \n",
    "\n",
    "Given a measurement $z_k$ of where we are:\n",
    "\\begin{equation}\n",
    "P(j | z_k,Bel_{old})\n",
    "\\end{equation}\n",
    "is the probability of being in a cell $j$ given the measurement we got, and our prior belief. This should lead to a *more certain* belief than propagating belief using our model alone."
   ]
  },
  {
   "cell_type": "markdown",
   "id": "b2ddf1c3",
   "metadata": {
    "slideshow": {
     "slide_type": "slide"
    }
   },
   "source": [
    "## [Conditional Probability: Demo](https://setosa.io/conditional/)"
   ]
  },
  {
   "cell_type": "markdown",
   "id": "e90858b4",
   "metadata": {
    "slideshow": {
     "slide_type": "slide"
    }
   },
   "source": [
    "## Conditional Probability\n"
   ]
  },
  {
   "cell_type": "markdown",
   "id": "d8a89a36",
   "metadata": {},
   "source": [
    "\\begin{equation}\n",
    "\\begin{aligned}\n",
    "P(x,y) &= P(x|y)\\cdot P(y) \\\\\n",
    "P(y,x) &= P(y|x)\\cdot P(x)\n",
    "\\end{aligned}\n",
    "\\end{equation}\n",
    "\n",
    "Also, by definition, $P(x,y)=P(y,x)$ because it's the probability of both $x$ and $y$ occurring."
   ]
  },
  {
   "cell_type": "markdown",
   "id": "a03e21e2",
   "metadata": {
    "slideshow": {
     "slide_type": "slide"
    }
   },
   "source": [
    "### The Law of Total Probability: \"We must be somewhere\"\n",
    "\\begin{equation}\n",
    "\\begin{aligned}\n",
    "\\sum_y P(y) &= 1\\\\\n",
    "\\rightarrow P(x) &= \\sum_y P(x,y) \\\\\n",
    "\\rightarrow P(x) &= \\sum_y P(x|y)P(y)\\\\\n",
    "\\end{aligned}\n",
    "\\end{equation}\n"
   ]
  },
  {
   "cell_type": "markdown",
   "id": "f79bce96",
   "metadata": {
    "slideshow": {
     "slide_type": "slide"
    }
   },
   "source": [
    "### Rearranging the law of conditional probability gives us something special:\n",
    "Because $P(x,y)=P(y,x)$,\n",
    "\\begin{equation}\n",
    "\\begin{aligned}\n",
    "P(y|x)\\cdot P(x) &= P(x|y)\\cdot P(y) \\\\\n",
    "\\rightarrow P(x|y) &= \\frac{P(y|x)P(x)}{P(y)}\n",
    "\\end{aligned}\n",
    "\\end{equation}\n",
    "This is called [\"Bayes's rule\"](https://en.wikipedia.org/wiki/Bayes%27_theorem). Implementing it usually requires using the law of total probabilty to determine certain \"pieces,\" such as $P(y)$. But Bayes's rule tells us about how to modify our \"prior belief\" $P(x)$ based on new information $y$."
   ]
  },
  {
   "cell_type": "markdown",
   "id": "1bd3c84e",
   "metadata": {
    "slideshow": {
     "slide_type": "slide"
    }
   },
   "source": [
    "## Classic Bayes's rule example:\n",
    "Consider a Covid test that is 99% accurate:\n",
    "\\begin{equation}\n",
    "\\begin{aligned}\n",
    "P(+|covid) &= 0.99\\\\\n",
    "P(+| \\overline{covid}) &= 0.01\n",
    "\\end{aligned}\n",
    "\\end{equation}\n",
    "Now, say that we \"know\" that 10% of students at Lafayette were infected with covid in Spring 2021. This means $P(covid) = 0.1$ and $P(\\overline{covid})=0.1$. This implies that the total probability of a positive test, accounting for both true positive and true negative tests, is\n",
    "\\begin{equation}\n",
    "P(+) = 0.99(0.1)+0.01(0.9) = 0.108\n",
    "\\end{equation}\n",
    "Applying Bayes's rule allows us to determine the *true* probability of having covid given a positive test.\n",
    "\\begin{equation}\n",
    "P(covid|+) = \\frac{P(+|covid)\\cdot P(covid)}{P(+)} = 91\\%\n",
    "\\end{equation}\n",
    "This illustrates that *measuring* your covid-ness with a test gives you a better belief than you had just knowing \"prior\" information that you had a 10% chance of being one of the infected."
   ]
  },
  {
   "cell_type": "markdown",
   "id": "95096525",
   "metadata": {
    "slideshow": {
     "slide_type": "slide"
    }
   },
   "source": [
    "## What's next?\n",
    "\n",
    "For us, we will use Bayes's rule to condition the propagated probability of being in cell $j$ at time $k$ using a *measurement* $z_k$. \n",
    "* \"event x\" is our probability of being in cell j *before* our measurement\n",
    "* \"event y\" is receiving a measurement $z_k$\n",
    "* $P(x|y)$ is our *updated* probability of being in cell j given our measurement $z_k$.\n",
    "\n",
    "So think about how we would apply $P(x|y) = \\frac{P(y|x)P(x)}{P(y)}$. How would we get, for example, $P(y)$, or the *total* probability of getting that measurement $z_k$?"
   ]
  },
  {
   "cell_type": "markdown",
   "id": "5cf4e590",
   "metadata": {
    "slideshow": {
     "slide_type": "slide"
    }
   },
   "source": [
    "## WORK TIME!"
   ]
  },
  {
   "cell_type": "code",
   "execution_count": null,
   "id": "b4988910",
   "metadata": {},
   "outputs": [],
   "source": []
  }
 ],
 "metadata": {
  "celltoolbar": "Slideshow",
  "kernelspec": {
   "display_name": "Python 3 (ipykernel)",
   "language": "python",
   "name": "python3"
  },
  "language_info": {
   "codemirror_mode": {
    "name": "ipython",
    "version": 3
   },
   "file_extension": ".py",
   "mimetype": "text/x-python",
   "name": "python",
   "nbconvert_exporter": "python",
   "pygments_lexer": "ipython3",
   "version": "3.9.9"
  },
  "toc": {
   "base_numbering": 1,
   "nav_menu": {},
   "number_sections": true,
   "sideBar": false,
   "skip_h1_title": true,
   "title_cell": "Table of Contents",
   "title_sidebar": "Contents",
   "toc_cell": true,
   "toc_position": {},
   "toc_section_display": true,
   "toc_window_display": false
  }
 },
 "nbformat": 4,
 "nbformat_minor": 5
}
