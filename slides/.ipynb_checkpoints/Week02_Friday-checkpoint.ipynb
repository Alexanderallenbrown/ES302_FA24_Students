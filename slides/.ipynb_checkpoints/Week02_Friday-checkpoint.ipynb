{
 "cells": [
  {
   "cell_type": "markdown",
   "id": "0364a635",
   "metadata": {
    "slideshow": {
     "slide_type": "skip"
    },
    "toc": true
   },
   "source": [
    "<h1>Table of Contents<span class=\"tocSkip\"></span></h1>\n",
    "<div class=\"toc\"><ul class=\"toc-item\"><li><span><a href=\"#Week-02-Friday\" data-toc-modified-id=\"Week-02-Friday-1\"><span class=\"toc-item-num\">1&nbsp;&nbsp;</span>Week 02 Friday</a></span></li><li><span><a href=\"#Announcements\" data-toc-modified-id=\"Announcements-2\"><span class=\"toc-item-num\">2&nbsp;&nbsp;</span>Announcements</a></span></li><li><span><a href=\"#Goals\" data-toc-modified-id=\"Goals-3\"><span class=\"toc-item-num\">3&nbsp;&nbsp;</span>Goals</a></span></li><li><span><a href=\"#Using-Timers-in-FSMs\" data-toc-modified-id=\"Using-Timers-in-FSMs-4\"><span class=\"toc-item-num\">4&nbsp;&nbsp;</span>Using Timers in FSMs</a></span></li><li><span><a href=\"#Using-Timers-in-FSMs\" data-toc-modified-id=\"Using-Timers-in-FSMs-5\"><span class=\"toc-item-num\">5&nbsp;&nbsp;</span>Using Timers in FSMs</a></span></li><li><span><a href=\"#Using-Timers-in-FSMs\" data-toc-modified-id=\"Using-Timers-in-FSMs-6\"><span class=\"toc-item-num\">6&nbsp;&nbsp;</span>Using Timers in FSMs</a></span></li><li><span><a href=\"#We-can-also-modify-our-'box'-FSM-from-Wednesday-so-that-the-Romi-always-turns-for-1-second.\" data-toc-modified-id=\"We-can-also-modify-our-'box'-FSM-from-Wednesday-so-that-the-Romi-always-turns-for-1-second.-7\"><span class=\"toc-item-num\">7&nbsp;&nbsp;</span>We can also modify our 'box' FSM from Wednesday so that the Romi always turns for 1 second.</a></span></li><li><span><a href=\"#Class-Exercise:-Romi-&quot;Explorer.&quot;\" data-toc-modified-id=\"Class-Exercise:-Romi-&quot;Explorer.&quot;-8\"><span class=\"toc-item-num\">8&nbsp;&nbsp;</span>Class Exercise: Romi \"Explorer.\"</a></span></li><li><span><a href=\"#Possible-Solution\" data-toc-modified-id=\"Possible-Solution-9\"><span class=\"toc-item-num\">9&nbsp;&nbsp;</span>Possible Solution</a></span></li></ul></div>"
   ]
  },
  {
   "cell_type": "markdown",
   "id": "498a6b94",
   "metadata": {
    "slideshow": {
     "slide_type": "slide"
    }
   },
   "source": [
    "## Week 02 Friday\n",
    "Sept 06, 2024\n",
    "\n",
    "## Announcements\n",
    "1. A01 (reaction paper) is due **Today**\n",
    "2. A03 (robot programming 1) is due **Friday, Sept 13**\n",
    "\n",
    "Four robots have been function-tested (one needs repair and was put away). If you run into any problems collecting data from them or making them move, please let me know ASAP.\n",
    "\n",
    "## Goals\n",
    "\n",
    "1. Using \"timers\" in Finite State Machines\n",
    "2. Work time for in-class exercise: \"Romi Explorer\"\n",
    "\n"
   ]
  },
  {
   "cell_type": "markdown",
   "id": "2858a073",
   "metadata": {
    "slideshow": {
     "slide_type": "slide"
    }
   },
   "source": [
    "## Using Timers in FSMs"
   ]
  },
  {
   "cell_type": "markdown",
   "id": "380a97f7",
   "metadata": {},
   "source": [
    "Often, we need to keep track of how long an FSM has been in a state, or how long a certain input has been true. We will often want to use an \"elapsed time\" to trigger a state transition. To do this we need:\n",
    "\n",
    "1. A \"start time\" variable in seconds or milliseconds that \"saves\" the instant that we \"turn the timer on\" to begin counting, e.g. \n",
    "```python\n",
    "if (notCounting):\n",
    "    starttime = current_time\n",
    "```\n",
    "(note that this stops updating the start time once we *are* counting!)\n",
    "2. An \"elapsed time\" variable that keeps track of time *since* the start time, e.g. \n",
    "```python \n",
    "elapsed=current_time-starttime\n",
    "```\n",
    "3. A Boolean variariable that is True when enough time has passed, and False otherwise.\n",
    "```python\n",
    "status = elapsed >= some_preset_amount_of_time\n",
    "```"
   ]
  },
  {
   "cell_type": "markdown",
   "id": "dc658d91",
   "metadata": {
    "slideshow": {
     "slide_type": "slide"
    }
   },
   "source": [
    "## Using Timers in FSMs"
   ]
  },
  {
   "cell_type": "markdown",
   "id": "7201d4fb",
   "metadata": {},
   "source": [
    "**The FSM resource on the course website includes an example \"timer class\" that you can add to the *top* of a webots controller file. Let's talk through how this works.**"
   ]
  },
  {
   "cell_type": "code",
   "execution_count": 6,
   "id": "7920e8dd",
   "metadata": {
    "hide_input": true,
    "scrolled": true
   },
   "outputs": [
    {
     "data": {
      "text/html": [
       "<iframe id=\"inlineFrameExample\" title=\"Inline Frame Example\" width=\"1000\" height=\"600\" src=\"https://alexanderallenbrown.github.io/ES302_FA24_Students/03_FiniteStateMachines/03_FiniteStateMachines.html#Timers\"> </iframe>\n"
      ],
      "text/plain": [
       "<IPython.core.display.HTML object>"
      ]
     },
     "metadata": {},
     "output_type": "display_data"
    }
   ],
   "source": [
    "%%html\n",
    "<iframe id=\"inlineFrameExample\" title=\"Inline Frame Example\" width=\"1000\" height=\"600\" src=\"https://alexanderallenbrown.github.io/ES302_FA24_Students/03_FiniteStateMachines/03_FiniteStateMachines.html#Timers\"> </iframe>"
   ]
  },
  {
   "cell_type": "markdown",
   "id": "0036b213",
   "metadata": {
    "slideshow": {
     "slide_type": "slide"
    }
   },
   "source": [
    "## Using Timers in FSMs"
   ]
  },
  {
   "cell_type": "markdown",
   "id": "057f7498",
   "metadata": {},
   "source": [
    "**How do we use this in our controller code? First, paste the Timer class somewhere near the top of your controller code. Then, instantiate a timer *before* the while-loop. This timer will have a preset of 1000ms (1 second).**"
   ]
  },
  {
   "cell_type": "markdown",
   "id": "8c05963b",
   "metadata": {},
   "source": [
    "```python\n",
    "tmr1 = Timer(1000)\n",
    "```\n",
    "\n",
    "**Then, inside the While loop, you can update the timer however you like. Let's see how it behaves if we activate it based on whether the 'k' key is down. The timer's 'update' function needs a $\\Delta t$ value in the same units as your preset (milliseconds, in this case)**\n",
    "\n",
    "```python\n",
    "while romi.simromi.step(timestep) != -1:\n",
    "    tmr1.update(keyboard.keyDown()==75,timestep)#uses the romi/webots 'timestep' value defined above (32ms)\n",
    "    print(tmr1.elapsed,tmr1.state)\n",
    "\n",
    "```"
   ]
  },
  {
   "cell_type": "markdown",
   "id": "7064c940",
   "metadata": {
    "slideshow": {
     "slide_type": "slide"
    }
   },
   "source": [
    "## We can also modify our 'box' FSM from Wednesday so that the Romi always turns for 1 second.\n",
    "\n"
   ]
  },
  {
   "cell_type": "markdown",
   "id": "e35f9425",
   "metadata": {
    "slideshow": {
     "slide_type": "-"
    }
   },
   "source": [
    "| **Transition** | **Start** | **Condition** | **End** |\n",
    "|----------------|-----------|---------------|---------|\n",
    "|        A        |    F      |    not upk          |  F     |\n",
    "|         B       |     F     |      upk      |   T    |\n",
    "|         C       |     T      |     not tmr1.state        |    T    |\n",
    "|         D       |     T      |      tmr1.state        |    F    |"
   ]
  },
  {
   "cell_type": "markdown",
   "id": "68b185df",
   "metadata": {
    "slideshow": {
     "slide_type": "fragment"
    }
   },
   "source": [
    "We have to **update tmr1 in block 1** and use the turn state as the ENABLE input:\n",
    "```python\n",
    "while romi.simromi.step(timestep) != -1:\n",
    "    simtime+=timestep/1000.0\n",
    "    # romiGoForward(0)\n",
    "    #BLOCK 1  \n",
    "    kDown = keyboard.getKey()==75\n",
    "    UPK = kDown and not kOld\n",
    "    tmr1.update(T,timestep)\n",
    "```"
   ]
  },
  {
   "cell_type": "markdown",
   "id": "26058402",
   "metadata": {
    "slideshow": {
     "slide_type": "subslide"
    }
   },
   "source": [
    "<style>\n",
    "pre[class*=python]\n",
    "    {font-size: 0.8em;}\n",
    "</style>\n",
    "```python\n",
    "\"\"\"romi_test controller.\"\"\"\n",
    "#import the sys library so we can get path above\n",
    "import sys\n",
    "#add ES302 directory to path because Romi.py is there\n",
    "sys.path.append(\"../ES302_Romi\")\n",
    "#now import the Romi library\n",
    "from Romi import Romi\n",
    "#import sine function to use\n",
    "from math import sin\n",
    "\n",
    "writeData = False\n",
    "\n",
    "#open a file so we can save data\n",
    "f = open(\"data/simdata.txt\",\"w\")\n",
    "\n",
    "# create the Robot instance.\n",
    "#instantiating a Romi library object in simulation mode\n",
    "#automatically loads proper WeBots libraries.\n",
    "#the webots robot class lives inside of romi.simromi\n",
    "romi = Romi(sim=True)\n",
    "keyboard = romi.simromi.getKeyboard()\n",
    "keyboard.enable(32)\n",
    "\n",
    "class Timer:\n",
    "    def __init__(self,preset):\n",
    "        #current \"state\" of the timer\n",
    "        self.state = False\n",
    "        #current elapsed time\n",
    "        self.elapsed = 0\n",
    "        #timer will go true if it has counted for more than 1 second\n",
    "        self.preset = preset\n",
    "    def update(self,ENABLE,dt):\n",
    "        #dt is the timestep by which we should count up. make sure its units match your preset!\n",
    "        #don't set the preset in seconds and increment the elapsed time in milliseconds, for example!\n",
    "        #ENABLE is a boolean. When it is true, we run up the timer. When it is not, the time resets and we stop counting.\n",
    "        if(ENABLE):\n",
    "            #increment time by dt\n",
    "            self.elapsed+=dt\n",
    "            self.state=self.elapsed>=self.preset\n",
    "        else:\n",
    "            self.elapsed=0\n",
    "            self.state=False\n",
    "\n",
    "tmr1 = Timer(1000)\n",
    "\n",
    "# get the time step of the current world.\n",
    "timestep = int(romi.simromi.getBasicTimeStep())\n",
    "\n",
    "#initialize a simulation time for us to use\n",
    "simtime = 0\n",
    "\n",
    "def romiTurn(speed):\n",
    "    romi.update(-speed,speed,90,90,90)\n",
    "\n",
    "def romiGoForward(speed):\n",
    "    romi.update(speed,speed,90,90,90)\n",
    "#initialize old value of k key\n",
    "kOld = False\n",
    "#initialize our FSM states (start in one of them!)\n",
    "F = True\n",
    "T = False\n",
    "# Main loop:\n",
    "while romi.simromi.step(timestep) != -1:\n",
    "    simtime+=timestep/1000.0\n",
    "    #BLOCK 1  \n",
    "    kDown = keyboard.getKey()==75\n",
    "    UPK = kDown and not kOld\n",
    "    tmr1.update(T,timestep)\n",
    "    #Block 2\n",
    "    A = F and not UPK\n",
    "    B = F and UPK\n",
    "    C = T and not tmr1.state\n",
    "    D = T and tmr1.state\n",
    "    # Block 3\n",
    "    F = A or D\n",
    "    T = C or B\n",
    "    #Block 4\n",
    "    if(F):\n",
    "        romiGoForward(100)\n",
    "    elif(T):\n",
    "        romiTurn(100)\n",
    "    else:\n",
    "        print(\"Uh oh\")\n",
    "    kOld = kDown\n",
    "```"
   ]
  },
  {
   "cell_type": "markdown",
   "id": "30dc57d5",
   "metadata": {
    "hide_input": true,
    "nbgrader": {
     "grade": false,
     "grade_id": "cell-2fe5a47c5fdd19d9d",
     "locked": true,
     "schema_version": 3,
     "solution": false
    },
    "resourcetopic": "FSM",
    "slideshow": {
     "slide_type": "slide"
    }
   },
   "source": [
    "## Class Exercise: Romi \"Explorer.\"\n",
    "\n",
    "Task: Make the Romi \"autononomously explore\" its environment using a modified version of our \"Box FSM\" from Wednesday. \n",
    "\n",
    "**Make a copy of your ES302_Webots folder from Wednesday, and rename it Week02_Friday or similar**\n",
    "\n",
    "Your FSM should make use of at least one timer, and it should make use of the front proximity sensor. It needs no setup, since it is already enabled when your Romi() object is instantiated. In your Controller code's While loop, you can access the front proximity sensor like this:\n",
    "\n",
    "```python\n",
    "while romi.simromi.step(timestep) != -1:\n",
    "    ...#all your code\n",
    "    proxValNow = romi.proxFrontVal\n",
    "    #see how it behaves as you approach a wall, to plan how you'll use it:\n",
    "    print(proxValNow)\n",
    "```\n",
    "You may add other behaviors to the Romi other than turn and straight if you wish. I also suggest adding some solids to the Romi's world to see whether it reliably avoids them."
   ]
  },
  {
   "cell_type": "markdown",
   "id": "5a5b1d2a",
   "metadata": {
    "slideshow": {
     "slide_type": "subslide"
    }
   },
   "source": [
    "## Possible Solution"
   ]
  },
  {
   "cell_type": "markdown",
   "id": "0be16a93",
   "metadata": {
    "slideshow": {
     "slide_type": "-"
    }
   },
   "source": [
    "| **Transition** | **Start** | **Condition** | **End** |\n",
    "|----------------|-----------|---------------|---------|\n",
    "|        A        |    F      |    proxValNow<750          |  F     |\n",
    "|         B       |     F     |      proxValNow>=750      |   T    |\n",
    "|         C       |     T      |     not tmr1.state        |    T    |\n",
    "|         D       |     T      |      tmr1.state        |    F    |"
   ]
  },
  {
   "cell_type": "markdown",
   "id": "b3b89b61",
   "metadata": {
    "slideshow": {
     "slide_type": "subslide"
    }
   },
   "source": [
    "```python\n",
    "## Full Solution\n",
    "\"\"\"romi_test controller.\"\"\"\n",
    "#import the sys library so we can get path above\n",
    "import sys\n",
    "#add ES302 directory to path because Romi.py is there\n",
    "sys.path.append(\"../ES302_Romi\")\n",
    "#now import the Romi library\n",
    "from Romi import Romi\n",
    "#import sine function to use\n",
    "from math import sin\n",
    "\n",
    "writeData = False\n",
    "\n",
    "#open a file so we can save data\n",
    "f = open(\"data/simdata.txt\",\"w\")\n",
    "\n",
    "# create the Robot instance.\n",
    "#instantiating a Romi library object in simulation mode\n",
    "#automatically loads proper WeBots libraries.\n",
    "#the webots robot class lives inside of romi.simromi\n",
    "romi = Romi(sim=True)\n",
    "keyboard = romi.simromi.getKeyboard()\n",
    "keyboard.enable(32)\n",
    "\n",
    "class Timer:\n",
    "    def __init__(self,preset):\n",
    "        #current \"state\" of the timer\n",
    "        self.state = False\n",
    "        #current elapsed time\n",
    "        self.elapsed = 0\n",
    "        #timer will go true if it has counted for more than 1 second\n",
    "        self.preset = preset\n",
    "    def update(self,ENABLE,dt):\n",
    "        #dt is the timestep by which we should count up. make sure its units match your preset!\n",
    "        #don't set the preset in seconds and increment the elapsed time in milliseconds, for example!\n",
    "        #ENABLE is a boolean. When it is true, we run up the timer. When it is not, the time resets and we stop counting.\n",
    "        if(ENABLE):\n",
    "            #increment time by dt\n",
    "            self.elapsed+=dt\n",
    "            self.state=self.elapsed>=self.preset\n",
    "        else:\n",
    "            self.elapsed=0\n",
    "            self.state=False\n",
    "\n",
    "tmr1 = Timer(1000)\n",
    "\n",
    "# get the time step of the current world.\n",
    "timestep = int(romi.simromi.getBasicTimeStep())\n",
    "\n",
    "#initialize a simulation time for us to use\n",
    "simtime = 0\n",
    "\n",
    "def romiTurn(speed):\n",
    "    romi.update(-speed,speed,90,90,90)\n",
    "\n",
    "def romiGoForward(speed):\n",
    "    romi.update(speed,speed,90,90,90)\n",
    "\n",
    "kOld = False\n",
    "F = True\n",
    "T = False\n",
    "# Main loop:\n",
    "# - perform simulation steps until Webots is stopping the controller\n",
    "while romi.simromi.step(timestep) != -1:\n",
    "    simtime+=timestep/1000.0\n",
    "    # romiGoForward(0)\n",
    "    #BLOCK 1  \n",
    "    kDown = keyboard.getKey()==75\n",
    "    UPK = kDown and not kOld\n",
    "    tmr1.update(T,timestep)\n",
    "    proxValNow = romi.proxFrontVal\n",
    "    #Block 2\n",
    "    A = F and not proxValNow>750\n",
    "    B = F and proxValNow>750\n",
    "    C = T and not tmr1.state\n",
    "    D = T and tmr1.state\n",
    "    # Block 3\n",
    "    F = A or D\n",
    "    T = C or B\n",
    "    #Block 4\n",
    "    if(F):\n",
    "        romiGoForward(100)\n",
    "    elif(T):\n",
    "        romiTurn(100)\n",
    "    else:\n",
    "        print(\"Uh oh\")\n",
    "    kOld = kDown\n",
    "```"
   ]
  },
  {
   "cell_type": "code",
   "execution_count": null,
   "id": "5cab8372",
   "metadata": {},
   "outputs": [],
   "source": []
  }
 ],
 "metadata": {
  "celltoolbar": "Slideshow",
  "kernelspec": {
   "display_name": "Python 3 (ipykernel)",
   "language": "python",
   "name": "python3"
  },
  "language_info": {
   "codemirror_mode": {
    "name": "ipython",
    "version": 3
   },
   "file_extension": ".py",
   "mimetype": "text/x-python",
   "name": "python",
   "nbconvert_exporter": "python",
   "pygments_lexer": "ipython3",
   "version": "3.9.9"
  },
  "toc": {
   "base_numbering": 1,
   "nav_menu": {},
   "number_sections": true,
   "sideBar": false,
   "skip_h1_title": true,
   "title_cell": "Table of Contents",
   "title_sidebar": "Contents",
   "toc_cell": true,
   "toc_position": {},
   "toc_section_display": true,
   "toc_window_display": false
  }
 },
 "nbformat": 4,
 "nbformat_minor": 5
}
