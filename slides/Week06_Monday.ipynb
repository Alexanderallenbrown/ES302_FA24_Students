{
 "cells": [
  {
   "cell_type": "markdown",
   "id": "a546e094",
   "metadata": {
    "slideshow": {
     "slide_type": "skip"
    },
    "toc": true
   },
   "source": [
    "<h1>Table of Contents<span class=\"tocSkip\"></span></h1>\n",
    "<div class=\"toc\"><ul class=\"toc-item\"><li><span><a href=\"#Week-06-Monday\" data-toc-modified-id=\"Week-06-Monday-1\"><span class=\"toc-item-num\">1&nbsp;&nbsp;</span>Week 06 Monday</a></span></li><li><span><a href=\"#Announcements\" data-toc-modified-id=\"Announcements-2\"><span class=\"toc-item-num\">2&nbsp;&nbsp;</span>Announcements</a></span></li><li><span><a href=\"#Goals\" data-toc-modified-id=\"Goals-3\"><span class=\"toc-item-num\">3&nbsp;&nbsp;</span>Goals</a></span></li><li><span><a href=\"#Later-This-week\" data-toc-modified-id=\"Later-This-week-4\"><span class=\"toc-item-num\">4&nbsp;&nbsp;</span>Later This week</a></span></li><li><span><a href=\"#Exercise\" data-toc-modified-id=\"Exercise-5\"><span class=\"toc-item-num\">5&nbsp;&nbsp;</span>Exercise</a></span></li><li><span><a href=\"#Exercise-2:-MAPPING\" data-toc-modified-id=\"Exercise-2:-MAPPING-6\"><span class=\"toc-item-num\">6&nbsp;&nbsp;</span>Exercise 2: MAPPING</a></span></li><li><span><a href=\"#Romi-Prox-Sensor-Lookup-Table\" data-toc-modified-id=\"Romi-Prox-Sensor-Lookup-Table-7\"><span class=\"toc-item-num\">7&nbsp;&nbsp;</span>Romi Prox Sensor Lookup Table</a></span></li></ul></div>"
   ]
  },
  {
   "cell_type": "markdown",
   "id": "498a6b94",
   "metadata": {
    "slideshow": {
     "slide_type": "slide"
    }
   },
   "source": [
    "## Week 06 Monday\n",
    "Sept 27, 2024\n",
    "\n",
    "## Announcements\n",
    "1. A draft list of included articles **(initial list due 10/02/2024)**\n",
    "2. A06 due **Friday, 10/4/2024**\n",
    "\n",
    "A01 feedback has been returned! Note that if you would like, you can submit a revision to this assignment to recover points. Due date to be determined based on course progress.\n",
    "\n",
    "## Goals\n",
    "\n",
    "1. Work time for Class exercises: Odometry and MAPPING!\n",
    "\n",
    "## Later This week\n",
    "\n",
    "1. 3D rotations: Euler Angles and Quaternions\n"
   ]
  },
  {
   "cell_type": "markdown",
   "id": "e6b68b5e",
   "metadata": {
    "slideshow": {
     "slide_type": "slide"
    }
   },
   "source": [
    "## Exercise\n",
    "\n",
    "Modify the Romi controller in the Week05_InClass world. Add a function that computes a new estimate of odometry based on old estimates, along with current wheel velocities. Your function should have the form\n",
    "\n",
    "```python\n",
    "def doOdometry(Xold,Yold,Yawold,Vl,Vr,timestep):\n",
    "    #your function should:\n",
    "    #1. Compute yaw rate based on Vl, Vr, and romi geometry\n",
    "    #2. Use Euler integration to find Yawnew based on Yawold, yaw rate and timestep\n",
    "    #3. Compute body-fixed velocity bv based on Vl, Vr, and romi geometry\n",
    "    #4. Rotate body-fixed velocity to find VX, VY in global frame\n",
    "    #5. Use Euler integration to find Xnew, Ynew based on Xold, Yold, VX, Vy, timestep\n",
    "    \n",
    "    return Xnew, Ynew, Yawnew #can return more (i.e. yaw rate) if you like\n",
    "```\n",
    "\n",
    "Remember, Euler integration allows us to compute a \"new\" value for some integral $y(k)$ based on an \"old\" value $y(k-1)$, a velocity $\\dot{y}(k-1)$, and a timestep $\\Delta t$ by:\n",
    "\n",
    "\\begin{equation}\n",
    "y(k) = y(k-1) + \\dot{y}(k-1)\\Delta t\n",
    "\\end{equation}\n",
    "\n",
    "Which can be written without using indices and without storing our estimates in a \"vector\" by simply writing:\n",
    "\n",
    "\\begin{equation}\n",
    "y_{new} = y_{old} + \\dot{y}_{old}\\Delta t\n",
    "\\end{equation}"
   ]
  },
  {
   "cell_type": "markdown",
   "id": "4fb241ea",
   "metadata": {},
   "source": [
    " .\n",
    " \n",
    " .\n",
    " \n",
    " .\n",
    " \n",
    " . "
   ]
  },
  {
   "cell_type": "markdown",
   "id": "9632cf17",
   "metadata": {
    "slideshow": {
     "slide_type": "slide"
    }
   },
   "source": [
    "## Exercise 2: MAPPING\n",
    "\n",
    "Modify the Romi controller in the Week05_InClass world. Add a function that computes an estimate of the **global position** of any objects in the world that the Romi \"sees\" with its distance sensor.\n",
    "\n",
    "* Use [lookup table](https://github.com/Alexanderallenbrown/ES302_Webots/blob/437461d4fe4ebda39ed2a5eb5bfd7e30ac2cedbd/protos/romi.proto#L108C21-L137C22) in Romi.proto to convert measured distance to meters from Romi's built-in distance sensor\n",
    "   - Store table as numpy array\n",
    "   - Interpolate using numpy.interp()\n",
    "   - https://numpy.org/doc/stable/reference/generated/numpy.interp.html\n",
    "* Using Romi's odometry and measured distance, store allocentric coordinates of any detected object in a text file.\n",
    "   - careful with this measurement. It's from the claw edge, not from Romi center. Does this matter? Think about it, and compensate if necessary (add offset, which you can measure for now)\n",
    "* Do not store values that are too close or too far to trust.\n",
    "* Plot \"map\" by plotting XY coordinates of detected objects. Compare to shape of Romi arena."
   ]
  },
  {
   "cell_type": "markdown",
   "id": "a45195e4",
   "metadata": {},
   "source": [
    " .\n",
    " \n",
    " .\n",
    " \n",
    " .\n",
    " \n",
    " . "
   ]
  },
  {
   "cell_type": "markdown",
   "id": "8a89c617",
   "metadata": {
    "slideshow": {
     "slide_type": "subslide"
    }
   },
   "source": [
    "## Romi Prox Sensor Lookup Table\n",
    "Columns are: $\\begin{bmatrix} dist(m) & dist(counts) & variance (m^2)\\end{bmatrix}$\n",
    "\n",
    "```python\n",
    "lookupTable = np.array([[0.0254,991,.005],[0.0508,987,.005],[0.0762,980,.005],[0.1016,853,.005],[0.127,712,.005],[0.1524,585,.005],[0.1778,502,.005],[0.2032,435,.005],[0.2286,383,.005],[0.254,346,.005],[0.2794,316,.005],[0.3048,296,.005],[0.3302,281,.005],[0.3556,268,.005],[0.381,255,.005],[0.4064,248,.005],[0.4318,239,.005],[0.4572,233,.005],[0.4826,229,.005],[0.508,223,.005],[0.5334,219,.005],[0.5588,215,.005],[0.5842,211,.005],[0.6096,209,.005],[0.635,207,.005],[0.6604,205,.005],[0.6858,203,.005],[0.7112,201,.005],[0.7366,200,.005]])\n",
    "```"
   ]
  },
  {
   "cell_type": "code",
   "execution_count": null,
   "id": "4dad5d2b",
   "metadata": {},
   "outputs": [],
   "source": []
  }
 ],
 "metadata": {
  "celltoolbar": "Slideshow",
  "kernelspec": {
   "display_name": "Python 3 (ipykernel)",
   "language": "python",
   "name": "python3"
  },
  "language_info": {
   "codemirror_mode": {
    "name": "ipython",
    "version": 3
   },
   "file_extension": ".py",
   "mimetype": "text/x-python",
   "name": "python",
   "nbconvert_exporter": "python",
   "pygments_lexer": "ipython3",
   "version": "3.9.9"
  },
  "toc": {
   "base_numbering": 1,
   "nav_menu": {},
   "number_sections": true,
   "sideBar": false,
   "skip_h1_title": true,
   "title_cell": "Table of Contents",
   "title_sidebar": "Contents",
   "toc_cell": true,
   "toc_position": {},
   "toc_section_display": true,
   "toc_window_display": false
  }
 },
 "nbformat": 4,
 "nbformat_minor": 5
}
