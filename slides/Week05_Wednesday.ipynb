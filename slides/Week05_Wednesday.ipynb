{
 "cells": [
  {
   "cell_type": "markdown",
   "id": "a546e094",
   "metadata": {
    "slideshow": {
     "slide_type": "skip"
    },
    "toc": true
   },
   "source": [
    "<h1>Table of Contents<span class=\"tocSkip\"></span></h1>\n",
    "<div class=\"toc\"><ul class=\"toc-item\"><li><span><a href=\"#Week-05-Wednesday\" data-toc-modified-id=\"Week-05-Wednesday-1\"><span class=\"toc-item-num\">1&nbsp;&nbsp;</span>Week 05 Wednesday</a></span></li><li><span><a href=\"#Announcements\" data-toc-modified-id=\"Announcements-2\"><span class=\"toc-item-num\">2&nbsp;&nbsp;</span>Announcements</a></span></li><li><span><a href=\"#Goals\" data-toc-modified-id=\"Goals-3\"><span class=\"toc-item-num\">3&nbsp;&nbsp;</span>Goals</a></span></li><li><span><a href=\"#Exercise\" data-toc-modified-id=\"Exercise-4\"><span class=\"toc-item-num\">4&nbsp;&nbsp;</span>Exercise</a></span></li></ul></div>"
   ]
  },
  {
   "cell_type": "markdown",
   "id": "498a6b94",
   "metadata": {
    "slideshow": {
     "slide_type": "slide"
    }
   },
   "source": [
    "## Week 05 Wednesday\n",
    "Sept 25, 2024\n",
    "\n",
    "## Announcements\n",
    "1. A04 due **TONIGHT**\n",
    "2. A draft abstract and full-text screening protocol **(initial draft due TONIGHT)**\n",
    "3. A draft list of included articles **(initial list due 10/02/2024)**\n",
    "2. A06 due **Friday, 10/4/2024**\n",
    "\n",
    "A01 feedback next on my grading list\n",
    "\n",
    "## Goals\n",
    "\n",
    "1. Work time for Class exercise: Write a function that computes odometry for Romi \"explorer.\"\n",
    "2. Plot results of odometry predictions vs. XY position stored by supervisor for Week05_InClass world.\n"
   ]
  },
  {
   "cell_type": "markdown",
   "id": "e6b68b5e",
   "metadata": {
    "slideshow": {
     "slide_type": "slide"
    }
   },
   "source": [
    "## Exercise\n",
    "\n",
    "Modify the Romi controller in the Week05_InClass world. Add a function that computes a new estimate of odometry based on old estimates, along with current wheel velocities. Your function should have the form\n",
    "\n",
    "```python\n",
    "def doOdometry(Xold,Yold,Yawold,Vl,Vr,timestep):\n",
    "    #your function should:\n",
    "    #1. Compute yaw rate based on Vl, Vr, and romi geometry\n",
    "    #2. Use Euler integration to find Yawnew based on Yawold, yaw rate and timestep\n",
    "    #3. Compute body-fixed velocity bv based on Vl, Vr, and romi geometry\n",
    "    #4. Rotate body-fixed velocity to find VX, VY in global frame\n",
    "    #5. Use Euler integration to find Xnew, Ynew based on Xold, Yold, VX, Vy, timestep\n",
    "    \n",
    "    return Xnew, Ynew, Yawnew #can return more (i.e. yaw rate) if you like\n",
    "```\n",
    "\n",
    "Remember, Euler integration allows us to compute a \"new\" value for some integral $y(k)$ based on an \"old\" value $y(k-1)$, a velocity $\\dot{y}(k-1)$, and a timestep $\\Delta t$ by:\n",
    "\n",
    "\\begin{equation}\n",
    "y(k) = y(k-1) + \\dot{y}(k-1)\\Delta t\n",
    "\\end{equation}\n",
    "\n",
    "Which can be written without using indices and without storing our estimates in a \"vector\" by simply writing:\n",
    "\n",
    "\\begin{equation}\n",
    "y_{new} = y_{old} + \\dot{y}_{old}\\Delta t\n",
    "\\end{equation}"
   ]
  },
  {
   "cell_type": "markdown",
   "id": "4fb241ea",
   "metadata": {},
   "source": [
    " .\n",
    " \n",
    " .\n",
    " \n",
    " .\n",
    " \n",
    " . "
   ]
  },
  {
   "cell_type": "code",
   "execution_count": null,
   "id": "123b2007",
   "metadata": {},
   "outputs": [],
   "source": []
  }
 ],
 "metadata": {
  "celltoolbar": "Slideshow",
  "kernelspec": {
   "display_name": "Python 3 (ipykernel)",
   "language": "python",
   "name": "python3"
  },
  "language_info": {
   "codemirror_mode": {
    "name": "ipython",
    "version": 3
   },
   "file_extension": ".py",
   "mimetype": "text/x-python",
   "name": "python",
   "nbconvert_exporter": "python",
   "pygments_lexer": "ipython3",
   "version": "3.9.9"
  },
  "toc": {
   "base_numbering": 1,
   "nav_menu": {},
   "number_sections": true,
   "sideBar": false,
   "skip_h1_title": true,
   "title_cell": "Table of Contents",
   "title_sidebar": "Contents",
   "toc_cell": true,
   "toc_position": {},
   "toc_section_display": true,
   "toc_window_display": false
  }
 },
 "nbformat": 4,
 "nbformat_minor": 5
}
